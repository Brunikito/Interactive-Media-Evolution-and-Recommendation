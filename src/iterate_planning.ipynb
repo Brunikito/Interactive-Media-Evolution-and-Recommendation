{
 "cells": [
  {
   "cell_type": "code",
   "execution_count": 1,
   "id": "68503ba4",
   "metadata": {},
   "outputs": [],
   "source": [
    "import pandas as pd\n",
    "import numpy as np\n",
    "import datetime\n",
    "\n",
    "import recommendate\n",
    "import table_operations\n",
    "import initialize"
   ]
  },
  {
   "cell_type": "code",
   "execution_count": 2,
   "id": "5561a276",
   "metadata": {},
   "outputs": [],
   "source": [
    "# load the tables\n",
    "channels = pd.read_csv('../data/channels.csv')\n",
    "comments = pd.read_csv('../data/comments.csv')\n",
    "content = pd.read_csv('../data/content.csv')\n",
    "users = pd.read_csv('../data/users.csv')\n",
    "country_data = pd.read_csv('../data/behavior_generated/country_data_cleaned.csv')\n",
    "sleep_data = pd.read_csv('../data/behavior_generated/sleep_hours_by_age_country.csv')\n",
    "work_data = pd.read_csv('../data/behavior_generated/work_behavior.csv')"
   ]
  },
  {
   "cell_type": "code",
   "execution_count": 3,
   "id": "214c4b65",
   "metadata": {},
   "outputs": [
    {
     "name": "stdout",
     "output_type": "stream",
     "text": [
      "['user_id', 'user_name', 'user_bed_time', 'user_wake_time', 'user_lunch_time', 'user_dinner_time', 'user_exercise_time', 'user_work_time', 'user_free_from_work_time', 'user_work_days', 'user_age', 'user_gender', 'user_location', 'user_language', 'user_ocupation', 'user_education', 'user_video_watching_time', 'user_video_retention_time']\n"
     ]
    }
   ],
   "source": [
    "print(users.columns.to_list())"
   ]
  },
  {
   "cell_type": "code",
   "execution_count": 4,
   "id": "603caf78",
   "metadata": {},
   "outputs": [],
   "source": [
    "total_population = country_data['Population'].sum()\n",
    "country_data['Population_Fraction'] = country_data['Population'] / total_population\n",
    "probabilities_country = country_data['Population_Fraction'].values"
   ]
  },
  {
   "cell_type": "code",
   "execution_count": 28,
   "id": "cae87e36",
   "metadata": {},
   "outputs": [
    {
     "data": {
      "image/png": "[encoded data removed]",
      "text/plain": [
       "<Figure size 640x480 with 1 Axes>"
      ]
     },
     "metadata": {},
     "output_type": "display_data"
    }
   ],
   "source": [
    "def gerar_idades(tamanho=2000, n=5, p=0.15):\n",
    "    # Gera idades aleatórias com uma distribuição binomial negativa\n",
    "    idades = np.random.negative_binomial(n, p, tamanho)\n",
    "    \n",
    "    # Ajuste para limitar as idades entre 0 e 100 anos\n",
    "    idades = np.clip(idades, 4, 100)\n",
    "    \n",
    "    return idades\n",
    "\n",
    "import matplotlib.pyplot as plt\n",
    "%matplotlib inline\n",
    "import seaborn as sns\n",
    "sns.set_style()\n",
    "idades_geradas = gerar_idades()\n",
    "plt.hist(idades_geradas, bins=range(101), edgecolor='black')\n",
    "plt.title(\"Distribuição de Idades Geradas\")\n",
    "plt.xlabel(\"Idade\")\n",
    "plt.ylabel(\"Frequência\")\n",
    "plt.show()"
   ]
  },
  {
   "cell_type": "code",
   "execution_count": 30,
   "id": "c2e1f32f",
   "metadata": {},
   "outputs": [
    {
     "data": {
      "text/html": [
       "<div>\n",
       "<style scoped>\n",
       "    .dataframe tbody tr th:only-of-type {\n",
       "        vertical-align: middle;\n",
       "    }\n",
       "\n",
       "    .dataframe tbody tr th {\n",
       "        vertical-align: top;\n",
       "    }\n",
       "\n",
       "    .dataframe thead th {\n",
       "        text-align: right;\n",
       "    }\n",
       "</style>\n",
       "<table border=\"1\" class=\"dataframe\">\n",
       "  <thead>\n",
       "    <tr style=\"text-align: right;\">\n",
       "      <th></th>\n",
       "      <th>ocupation</th>\n",
       "      <th>category</th>\n",
       "      <th>work_time</th>\n",
       "      <th>free_from_work_time</th>\n",
       "    </tr>\n",
       "  </thead>\n",
       "  <tbody>\n",
       "    <tr>\n",
       "      <th>0</th>\n",
       "      <td>Desenvolvedor de software</td>\n",
       "      <td>Tecnologia</td>\n",
       "      <td>09:00:00</td>\n",
       "      <td>17:00:00</td>\n",
       "    </tr>\n",
       "    <tr>\n",
       "      <th>1</th>\n",
       "      <td>Engenheiro de dados</td>\n",
       "      <td>Tecnologia</td>\n",
       "      <td>09:00:00</td>\n",
       "      <td>17:00:00</td>\n",
       "    </tr>\n",
       "    <tr>\n",
       "      <th>2</th>\n",
       "      <td>Arquiteto de TI</td>\n",
       "      <td>Tecnologia</td>\n",
       "      <td>09:00:00</td>\n",
       "      <td>17:00:00</td>\n",
       "    </tr>\n",
       "    <tr>\n",
       "      <th>3</th>\n",
       "      <td>Administrador de redes</td>\n",
       "      <td>Tecnologia</td>\n",
       "      <td>09:00:00</td>\n",
       "      <td>17:00:00</td>\n",
       "    </tr>\n",
       "    <tr>\n",
       "      <th>4</th>\n",
       "      <td>Analista de segurança</td>\n",
       "      <td>Tecnologia</td>\n",
       "      <td>09:00:00</td>\n",
       "      <td>17:00:00</td>\n",
       "    </tr>\n",
       "    <tr>\n",
       "      <th>...</th>\n",
       "      <td>...</td>\n",
       "      <td>...</td>\n",
       "      <td>...</td>\n",
       "      <td>...</td>\n",
       "    </tr>\n",
       "    <tr>\n",
       "      <th>140</th>\n",
       "      <td>Vendedor</td>\n",
       "      <td>Vendas</td>\n",
       "      <td>09:00:00</td>\n",
       "      <td>17:00:00</td>\n",
       "    </tr>\n",
       "    <tr>\n",
       "      <th>141</th>\n",
       "      <td>Representante comercial</td>\n",
       "      <td>Vendas</td>\n",
       "      <td>09:00:00</td>\n",
       "      <td>17:00:00</td>\n",
       "    </tr>\n",
       "    <tr>\n",
       "      <th>142</th>\n",
       "      <td>Gerente de vendas</td>\n",
       "      <td>Vendas</td>\n",
       "      <td>09:00:00</td>\n",
       "      <td>17:00:00</td>\n",
       "    </tr>\n",
       "    <tr>\n",
       "      <th>143</th>\n",
       "      <td>Supervisor de vendas</td>\n",
       "      <td>Vendas</td>\n",
       "      <td>09:00:00</td>\n",
       "      <td>17:00:00</td>\n",
       "    </tr>\n",
       "    <tr>\n",
       "      <th>144</th>\n",
       "      <td>Consultor de vendas</td>\n",
       "      <td>Vendas</td>\n",
       "      <td>09:00:00</td>\n",
       "      <td>17:00:00</td>\n",
       "    </tr>\n",
       "  </tbody>\n",
       "</table>\n",
       "<p>140 rows × 4 columns</p>\n",
       "</div>"
      ],
      "text/plain": [
       "                     ocupation    category work_time free_from_work_time\n",
       "0    Desenvolvedor de software  Tecnologia  09:00:00            17:00:00\n",
       "1          Engenheiro de dados  Tecnologia  09:00:00            17:00:00\n",
       "2              Arquiteto de TI  Tecnologia  09:00:00            17:00:00\n",
       "3       Administrador de redes  Tecnologia  09:00:00            17:00:00\n",
       "4        Analista de segurança  Tecnologia  09:00:00            17:00:00\n",
       "..                         ...         ...       ...                 ...\n",
       "140                   Vendedor      Vendas  09:00:00            17:00:00\n",
       "141    Representante comercial      Vendas  09:00:00            17:00:00\n",
       "142          Gerente de vendas      Vendas  09:00:00            17:00:00\n",
       "143       Supervisor de vendas      Vendas  09:00:00            17:00:00\n",
       "144        Consultor de vendas      Vendas  09:00:00            17:00:00\n",
       "\n",
       "[140 rows x 4 columns]"
      ]
     },
     "execution_count": 30,
     "metadata": {},
     "output_type": "execute_result"
    }
   ],
   "source": [
    "work_data_jobs = work_data[~work_data['ocupation'].isin(['Estudante pré-escola', 'Estudante ensino fundamental I', 'Estudante ensino fundamental II', 'Estudante ensino médio', 'Estudante universitário'])]\n",
    "work_data_jobs"
   ]
  },
  {
   "cell_type": "code",
   "execution_count": null,
   "id": "c1a34280",
   "metadata": {},
   "outputs": [],
   "source": [
    "from random_username.generate import generate_username\n",
    "\n",
    "def create_random_user(number_of_users):\n",
    "    user_location = np.random.choice(country_data['ISO3'], p=probabilities_country, size=number_of_users),\n",
    "    user_id = [users.shape[0] + i for i in range(number_of_users)]\n",
    "    user_name = generate_username(number_of_users)\n",
    "    user_age = np.clip(np.random.negative_binomial(5, 0.15, number_of_users), 4, 100)\n",
    "    for age in user_age:\n",
    "        if age < 6:\n",
    "            user_ocupation = 'Estudante pré-escola'\n",
    "        elif age < 11:\n",
    "            user_ocupation = 'Estudante ensino fundamental I'\n",
    "        elif age < 15:\n",
    "            user_ocupation = 'Estudante ensino fundamental II'\n",
    "        elif age < 18:\n",
    "            user_ocupation = 'Estudante ensino médio'\n",
    "        elif age < 23:\n",
    "            user_ocupation = 'Estudante universitário'\n",
    "        else:\n",
    "            user_ocupation = np.random.choice(work_data_jobs['ocupation'], size=1)[0]\n",
    "    user_gender = np.random.choice(['M', 'F'], size=number_of_users)\n",
    "    'user_bed_time', #\n",
    "    'user_wake_time', #\n",
    "    'user_lunch_time', #\n",
    "    'user_dinner_time', #\n",
    "    'user_exercise_time', #\n",
    "    'user_work_time', #\n",
    "    'user_free_from_work_time', #\n",
    "    'user_work_days', #\n",
    "    'user_language', #\n",
    "    'user_education', #\n",
    "    'user_video_watching_time', #\n",
    "    'user_video_retention_time', #'''"
   ]
  }
 ],
 "metadata": {
  "kernelspec": {
   "display_name": "base",
   "language": "python",
   "name": "python3"
  },
  "language_info": {
   "codemirror_mode": {
    "name": "ipython",
    "version": 3
   },
   "file_extension": ".py",
   "mimetype": "text/x-python",
   "name": "python",
   "nbconvert_exporter": "python",
   "pygments_lexer": "ipython3",
   "version": "3.12.7"
  }
 },
 "nbformat": 4,
 "nbformat_minor": 5
}
