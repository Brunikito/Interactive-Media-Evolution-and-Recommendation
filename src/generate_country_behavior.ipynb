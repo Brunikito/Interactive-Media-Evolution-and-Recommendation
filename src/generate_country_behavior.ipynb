{
 "cells": [
  {
   "cell_type": "code",
   "execution_count": 12,
   "id": "45d9b7d7",
   "metadata": {},
   "outputs": [],
   "source": [
    "desired_countries = ['LVA', 'LUX', 'ISR', 'FRA', 'CHN', 'SAU', 'COL', 'LTU', 'THA', 'CYP', \n",
    " 'HKG', 'AUS', 'GRC', 'ECU', 'CRI', 'CHL', 'MAR', 'NLD', 'PRT', 'RUS', \n",
    " 'HUN', 'TUR', 'MEX', 'EGY', 'BEL', 'ROU', 'DNK', 'KOR', 'SWE', 'FIN', \n",
    " 'UKR', 'ARG', 'VNM', 'DEU', 'BRA', 'BGR', 'MYS', 'PHL', 'GBR', 'CHE', \n",
    " 'ITA', 'AUT', 'SVK', 'CAN', 'ARE', 'TWN', 'PER', 'NZL', 'HRV', 'IRL', \n",
    " 'ZAF', 'SGP', 'USA', 'ESP', 'CZE', 'EST', 'IDN', 'POL', 'NOR', 'JPN', \n",
    " 'IND']"
   ]
  },
  {
   "cell_type": "code",
   "execution_count": 13,
   "id": "9bff9ea3",
   "metadata": {},
   "outputs": [],
   "source": [
    "import pandas as pd\n",
    "import numpy as np\n",
    "import requests"
   ]
  },
  {
   "cell_type": "code",
   "execution_count": 14,
   "id": "75eee11f",
   "metadata": {},
   "outputs": [
    {
     "data": {
      "application/vnd.microsoft.datawrangler.viewer.v0+json": {
       "columns": [
        {
         "name": "ISO",
         "rawType": "object",
         "type": "string"
        },
        {
         "name": "ISO3",
         "rawType": "object",
         "type": "string"
        },
        {
         "name": "ISO-Numeric",
         "rawType": "int64",
         "type": "integer"
        },
        {
         "name": "Country",
         "rawType": "object",
         "type": "string"
        },
        {
         "name": "Population",
         "rawType": "int64",
         "type": "integer"
        },
        {
         "name": "Continent",
         "rawType": "object",
         "type": "unknown"
        },
        {
         "name": "Languages",
         "rawType": "object",
         "type": "string"
        }
       ],
       "conversionMethod": "pd.DataFrame",
       "ref": "88a14ace-13d1-4c69-b242-956a141eef02",
       "rows": [
        [
         "AE",
         "ARE",
         "784",
         "United Arab Emirates",
         "9630959",
         "AS",
         "ar-AE,fa,en,hi,ur"
        ],
        [
         "AR",
         "ARG",
         "32",
         "Argentina",
         "44494502",
         "SA",
         "es-AR,en,it,de,fr,gn"
        ],
        [
         "AT",
         "AUT",
         "40",
         "Austria",
         "8847037",
         "EU",
         "de-AT,hr,hu,sl"
        ],
        [
         "AU",
         "AUS",
         "36",
         "Australia",
         "24992369",
         "OC",
         "en-AU"
        ],
        [
         "BE",
         "BEL",
         "56",
         "Belgium",
         "11422068",
         "EU",
         "nl-BE,fr-BE,de-BE"
        ],
        [
         "BG",
         "BGR",
         "100",
         "Bulgaria",
         "7000039",
         "EU",
         "bg,tr-BG,rom"
        ],
        [
         "BR",
         "BRA",
         "76",
         "Brazil",
         "209469333",
         "SA",
         "pt-BR,es,en,fr"
        ],
        [
         "CA",
         "CAN",
         "124",
         "Canada",
         "37058856",
         null,
         "en-CA,fr-CA,iu"
        ],
        [
         "CH",
         "CHE",
         "756",
         "Switzerland",
         "8516543",
         "EU",
         "de-CH,fr-CH,it-CH,rm"
        ],
        [
         "CL",
         "CHL",
         "152",
         "Chile",
         "18729160",
         "SA",
         "es-CL"
        ],
        [
         "CN",
         "CHN",
         "156",
         "China",
         "1411778724",
         "AS",
         "zh-CN,yue,wuu,dta,ug,za"
        ],
        [
         "CO",
         "COL",
         "170",
         "Colombia",
         "49648685",
         "SA",
         "es-CO"
        ],
        [
         "CR",
         "CRI",
         "188",
         "Costa Rica",
         "4999441",
         null,
         "es-CR,en"
        ],
        [
         "CY",
         "CYP",
         "196",
         "Cyprus",
         "1189265",
         "EU",
         "el-CY,tr-CY,en"
        ],
        [
         "CZ",
         "CZE",
         "203",
         "Czechia",
         "10625695",
         "EU",
         "cs,sk"
        ],
        [
         "DE",
         "DEU",
         "276",
         "Germany",
         "82927922",
         "EU",
         "de"
        ],
        [
         "DK",
         "DNK",
         "208",
         "Denmark",
         "5797446",
         "EU",
         "da-DK,en,fo,de-DK"
        ],
        [
         "EC",
         "ECU",
         "218",
         "Ecuador",
         "17084357",
         "SA",
         "es-EC"
        ],
        [
         "EE",
         "EST",
         "233",
         "Estonia",
         "1320884",
         "EU",
         "et,ru"
        ],
        [
         "EG",
         "EGY",
         "818",
         "Egypt",
         "98423595",
         "AF",
         "ar-EG,en,fr"
        ],
        [
         "ES",
         "ESP",
         "724",
         "Spain",
         "46723749",
         "EU",
         "es-ES,ca,gl,eu,oc"
        ],
        [
         "FI",
         "FIN",
         "246",
         "Finland",
         "5518050",
         "EU",
         "fi-FI,sv-FI,smn"
        ],
        [
         "FR",
         "FRA",
         "250",
         "France",
         "66987244",
         "EU",
         "fr-FR,frp,br,co,ca,eu,oc"
        ],
        [
         "GB",
         "GBR",
         "826",
         "United Kingdom",
         "66488991",
         "EU",
         "en-GB,cy-GB,gd"
        ],
        [
         "GR",
         "GRC",
         "300",
         "Greece",
         "10727668",
         "EU",
         "el-GR,en,fr"
        ],
        [
         "HK",
         "HKG",
         "344",
         "Hong Kong",
         "7491609",
         "AS",
         "zh-HK,yue,zh,en"
        ],
        [
         "HR",
         "HRV",
         "191",
         "Croatia",
         "3871833",
         "EU",
         "hr-HR,sr"
        ],
        [
         "HU",
         "HUN",
         "348",
         "Hungary",
         "9768785",
         "EU",
         "hu-HU"
        ],
        [
         "ID",
         "IDN",
         "360",
         "Indonesia",
         "267663435",
         "AS",
         "id,en,nl,jv"
        ],
        [
         "IE",
         "IRL",
         "372",
         "Ireland",
         "4853506",
         "EU",
         "en-IE,ga-IE"
        ],
        [
         "IL",
         "ISR",
         "376",
         "Israel",
         "8883800",
         "AS",
         "he,ar-IL,en-IL,"
        ],
        [
         "IN",
         "IND",
         "356",
         "India",
         "1352617328",
         "AS",
         "en-IN,hi,bn,te,mr,ta,ur,gu,kn,ml,or,pa,as,bh,sat,ks,ne,sd,kok,doi,mni,sit,sa,fr,lus,inc"
        ],
        [
         "IT",
         "ITA",
         "380",
         "Italy",
         "60431283",
         "EU",
         "it-IT,de-IT,fr-IT,sc,ca,co,sl"
        ],
        [
         "JP",
         "JPN",
         "392",
         "Japan",
         "126529100",
         "AS",
         "ja"
        ],
        [
         "KR",
         "KOR",
         "410",
         "South Korea",
         "51635256",
         "AS",
         "ko-KR,en"
        ],
        [
         "LT",
         "LTU",
         "440",
         "Lithuania",
         "2789533",
         "EU",
         "lt,ru,pl"
        ],
        [
         "LU",
         "LUX",
         "442",
         "Luxembourg",
         "607728",
         "EU",
         "lb,de-LU,fr-LU"
        ],
        [
         "LV",
         "LVA",
         "428",
         "Latvia",
         "1926542",
         "EU",
         "lv,ru,lt"
        ],
        [
         "MA",
         "MAR",
         "504",
         "Morocco",
         "36029138",
         "AF",
         "ar-MA,ber,fr"
        ],
        [
         "MX",
         "MEX",
         "484",
         "Mexico",
         "126190788",
         null,
         "es-MX"
        ],
        [
         "MY",
         "MYS",
         "458",
         "Malaysia",
         "31528585",
         "AS",
         "ms-MY,en,zh,ta,te,ml,pa,th"
        ],
        [
         "NL",
         "NLD",
         "528",
         "The Netherlands",
         "17231017",
         "EU",
         "nl-NL,fy-NL"
        ],
        [
         "NO",
         "NOR",
         "578",
         "Norway",
         "5314336",
         "EU",
         "no,nb,nn,se,fi"
        ],
        [
         "NZ",
         "NZL",
         "554",
         "New Zealand",
         "4885500",
         "OC",
         "en-NZ,mi"
        ],
        [
         "PE",
         "PER",
         "604",
         "Peru",
         "31989256",
         "SA",
         "es-PE,qu,ay"
        ],
        [
         "PH",
         "PHL",
         "608",
         "Philippines",
         "106651922",
         "AS",
         "tl,en-PH,fil,ceb,ilo,hil,war,pam,bik,bcl,pag,mrw,tsg,mdh,cbk,krj,sgd,msb,akl,ibg,yka,mta,abx"
        ],
        [
         "PL",
         "POL",
         "616",
         "Poland",
         "37978548",
         "EU",
         "pl"
        ],
        [
         "PT",
         "PRT",
         "620",
         "Portugal",
         "10281762",
         "EU",
         "pt-PT,mwl"
        ],
        [
         "RO",
         "ROU",
         "642",
         "Romania",
         "19473936",
         "EU",
         "ro,hu,rom"
        ],
        [
         "RU",
         "RUS",
         "643",
         "Russia",
         "144478050",
         "EU",
         "ru,tt,xal,cau,ady,kv,ce,tyv,cv,udm,tut,mns,bua,myv,mdf,chm,ba,inh,kbd,krc,av,sah,nog"
        ]
       ],
       "shape": {
        "columns": 6,
        "rows": 61
       }
      },
      "text/html": [
       "<div>\n",
       "<style scoped>\n",
       "    .dataframe tbody tr th:only-of-type {\n",
       "        vertical-align: middle;\n",
       "    }\n",
       "\n",
       "    .dataframe tbody tr th {\n",
       "        vertical-align: top;\n",
       "    }\n",
       "\n",
       "    .dataframe thead th {\n",
       "        text-align: right;\n",
       "    }\n",
       "</style>\n",
       "<table border=\"1\" class=\"dataframe\">\n",
       "  <thead>\n",
       "    <tr style=\"text-align: right;\">\n",
       "      <th></th>\n",
       "      <th>ISO3</th>\n",
       "      <th>ISO-Numeric</th>\n",
       "      <th>Country</th>\n",
       "      <th>Population</th>\n",
       "      <th>Continent</th>\n",
       "      <th>Languages</th>\n",
       "    </tr>\n",
       "    <tr>\n",
       "      <th>ISO</th>\n",
       "      <th></th>\n",
       "      <th></th>\n",
       "      <th></th>\n",
       "      <th></th>\n",
       "      <th></th>\n",
       "      <th></th>\n",
       "    </tr>\n",
       "  </thead>\n",
       "  <tbody>\n",
       "    <tr>\n",
       "      <th>AE</th>\n",
       "      <td>ARE</td>\n",
       "      <td>784</td>\n",
       "      <td>United Arab Emirates</td>\n",
       "      <td>9630959</td>\n",
       "      <td>AS</td>\n",
       "      <td>ar-AE,fa,en,hi,ur</td>\n",
       "    </tr>\n",
       "    <tr>\n",
       "      <th>AR</th>\n",
       "      <td>ARG</td>\n",
       "      <td>32</td>\n",
       "      <td>Argentina</td>\n",
       "      <td>44494502</td>\n",
       "      <td>SA</td>\n",
       "      <td>es-AR,en,it,de,fr,gn</td>\n",
       "    </tr>\n",
       "    <tr>\n",
       "      <th>AT</th>\n",
       "      <td>AUT</td>\n",
       "      <td>40</td>\n",
       "      <td>Austria</td>\n",
       "      <td>8847037</td>\n",
       "      <td>EU</td>\n",
       "      <td>de-AT,hr,hu,sl</td>\n",
       "    </tr>\n",
       "    <tr>\n",
       "      <th>AU</th>\n",
       "      <td>AUS</td>\n",
       "      <td>36</td>\n",
       "      <td>Australia</td>\n",
       "      <td>24992369</td>\n",
       "      <td>OC</td>\n",
       "      <td>en-AU</td>\n",
       "    </tr>\n",
       "    <tr>\n",
       "      <th>BE</th>\n",
       "      <td>BEL</td>\n",
       "      <td>56</td>\n",
       "      <td>Belgium</td>\n",
       "      <td>11422068</td>\n",
       "      <td>EU</td>\n",
       "      <td>nl-BE,fr-BE,de-BE</td>\n",
       "    </tr>\n",
       "    <tr>\n",
       "      <th>...</th>\n",
       "      <td>...</td>\n",
       "      <td>...</td>\n",
       "      <td>...</td>\n",
       "      <td>...</td>\n",
       "      <td>...</td>\n",
       "      <td>...</td>\n",
       "    </tr>\n",
       "    <tr>\n",
       "      <th>TW</th>\n",
       "      <td>TWN</td>\n",
       "      <td>158</td>\n",
       "      <td>Taiwan</td>\n",
       "      <td>23451837</td>\n",
       "      <td>AS</td>\n",
       "      <td>zh-TW,zh,nan,hak</td>\n",
       "    </tr>\n",
       "    <tr>\n",
       "      <th>UA</th>\n",
       "      <td>UKR</td>\n",
       "      <td>804</td>\n",
       "      <td>Ukraine</td>\n",
       "      <td>44622516</td>\n",
       "      <td>EU</td>\n",
       "      <td>uk,ru-UA,rom,pl,hu</td>\n",
       "    </tr>\n",
       "    <tr>\n",
       "      <th>US</th>\n",
       "      <td>USA</td>\n",
       "      <td>840</td>\n",
       "      <td>United States</td>\n",
       "      <td>327167434</td>\n",
       "      <td>NaN</td>\n",
       "      <td>en-US,es-US,haw,fr</td>\n",
       "    </tr>\n",
       "    <tr>\n",
       "      <th>VN</th>\n",
       "      <td>VNM</td>\n",
       "      <td>704</td>\n",
       "      <td>Vietnam</td>\n",
       "      <td>95540395</td>\n",
       "      <td>AS</td>\n",
       "      <td>vi,en,fr,zh,km</td>\n",
       "    </tr>\n",
       "    <tr>\n",
       "      <th>ZA</th>\n",
       "      <td>ZAF</td>\n",
       "      <td>710</td>\n",
       "      <td>South Africa</td>\n",
       "      <td>57779622</td>\n",
       "      <td>AF</td>\n",
       "      <td>zu,xh,af,nso,en-ZA,tn,st,ts,ss,ve,nr</td>\n",
       "    </tr>\n",
       "  </tbody>\n",
       "</table>\n",
       "<p>61 rows × 6 columns</p>\n",
       "</div>"
      ],
      "text/plain": [
       "    ISO3  ISO-Numeric               Country  Population Continent  \\\n",
       "ISO                                                                 \n",
       "AE   ARE          784  United Arab Emirates     9630959        AS   \n",
       "AR   ARG           32             Argentina    44494502        SA   \n",
       "AT   AUT           40               Austria     8847037        EU   \n",
       "AU   AUS           36             Australia    24992369        OC   \n",
       "BE   BEL           56               Belgium    11422068        EU   \n",
       "..   ...          ...                   ...         ...       ...   \n",
       "TW   TWN          158                Taiwan    23451837        AS   \n",
       "UA   UKR          804               Ukraine    44622516        EU   \n",
       "US   USA          840         United States   327167434       NaN   \n",
       "VN   VNM          704               Vietnam    95540395        AS   \n",
       "ZA   ZAF          710          South Africa    57779622        AF   \n",
       "\n",
       "                                Languages  \n",
       "ISO                                        \n",
       "AE                      ar-AE,fa,en,hi,ur  \n",
       "AR                   es-AR,en,it,de,fr,gn  \n",
       "AT                         de-AT,hr,hu,sl  \n",
       "AU                                  en-AU  \n",
       "BE                      nl-BE,fr-BE,de-BE  \n",
       "..                                    ...  \n",
       "TW                       zh-TW,zh,nan,hak  \n",
       "UA                     uk,ru-UA,rom,pl,hu  \n",
       "US                     en-US,es-US,haw,fr  \n",
       "VN                         vi,en,fr,zh,km  \n",
       "ZA   zu,xh,af,nso,en-ZA,tn,st,ts,ss,ve,nr  \n",
       "\n",
       "[61 rows x 6 columns]"
      ]
     },
     "execution_count": 14,
     "metadata": {},
     "output_type": "execute_result"
    }
   ],
   "source": [
    "df = pd.read_table('../data/behavior_imported/country_data.txt', sep='\\t', header=0, index_col=0)\n",
    "df = df[df['ISO3'].isin(desired_countries)]\n",
    "df.drop(columns=['fips', 'Capital', 'Area(in sq km)', 'tld', 'CurrencyCode', 'CurrencyName', 'Phone', 'Postal Code Format', 'Postal Code Regex', 'geonameid', 'neighbours', 'EquivalentFipsCode'], axis= 1, inplace=True)\n",
    "df"
   ]
  },
  {
   "cell_type": "code",
   "execution_count": 15,
   "id": "fd8c5379",
   "metadata": {},
   "outputs": [
    {
     "data": {
      "application/vnd.microsoft.datawrangler.viewer.v0+json": {
       "columns": [
        {
         "name": "ISO",
         "rawType": "object",
         "type": "string"
        },
        {
         "name": "ISO3",
         "rawType": "object",
         "type": "string"
        },
        {
         "name": "ISO-Numeric",
         "rawType": "int64",
         "type": "integer"
        },
        {
         "name": "Country",
         "rawType": "object",
         "type": "string"
        },
        {
         "name": "Population",
         "rawType": "int64",
         "type": "integer"
        },
        {
         "name": "Continent",
         "rawType": "object",
         "type": "string"
        },
        {
         "name": "Languages",
         "rawType": "object",
         "type": "string"
        }
       ],
       "conversionMethod": "pd.DataFrame",
       "ref": "36e9be1a-3f26-4375-b168-53feab924ed2",
       "rows": [
        [
         "AE",
         "ARE",
         "784",
         "United Arab Emirates",
         "9630959",
         "AS",
         "ar-AE,fa,en,hi,ur"
        ],
        [
         "AR",
         "ARG",
         "32",
         "Argentina",
         "44494502",
         "SA",
         "es-AR,en,it,de,fr,gn"
        ],
        [
         "AT",
         "AUT",
         "40",
         "Austria",
         "8847037",
         "EU",
         "de-AT,hr,hu,sl"
        ],
        [
         "AU",
         "AUS",
         "36",
         "Australia",
         "24992369",
         "OC",
         "en-AU"
        ],
        [
         "BE",
         "BEL",
         "56",
         "Belgium",
         "11422068",
         "EU",
         "nl-BE,fr-BE,de-BE"
        ],
        [
         "BG",
         "BGR",
         "100",
         "Bulgaria",
         "7000039",
         "EU",
         "bg,tr-BG,rom"
        ],
        [
         "BR",
         "BRA",
         "76",
         "Brazil",
         "209469333",
         "SA",
         "pt-BR,es,en,fr"
        ],
        [
         "CA",
         "CAN",
         "124",
         "Canada",
         "37058856",
         "NA",
         "en-CA,fr-CA,iu"
        ],
        [
         "CH",
         "CHE",
         "756",
         "Switzerland",
         "8516543",
         "EU",
         "de-CH,fr-CH,it-CH,rm"
        ],
        [
         "CL",
         "CHL",
         "152",
         "Chile",
         "18729160",
         "SA",
         "es-CL"
        ],
        [
         "CN",
         "CHN",
         "156",
         "China",
         "1411778724",
         "AS",
         "zh-CN,yue,wuu,dta,ug,za"
        ],
        [
         "CO",
         "COL",
         "170",
         "Colombia",
         "49648685",
         "SA",
         "es-CO"
        ],
        [
         "CR",
         "CRI",
         "188",
         "Costa Rica",
         "4999441",
         "NA",
         "es-CR,en"
        ],
        [
         "CY",
         "CYP",
         "196",
         "Cyprus",
         "1189265",
         "EU",
         "el-CY,tr-CY,en"
        ],
        [
         "CZ",
         "CZE",
         "203",
         "Czechia",
         "10625695",
         "EU",
         "cs,sk"
        ],
        [
         "DE",
         "DEU",
         "276",
         "Germany",
         "82927922",
         "EU",
         "de"
        ],
        [
         "DK",
         "DNK",
         "208",
         "Denmark",
         "5797446",
         "EU",
         "da-DK,en,fo,de-DK"
        ],
        [
         "EC",
         "ECU",
         "218",
         "Ecuador",
         "17084357",
         "SA",
         "es-EC"
        ],
        [
         "EE",
         "EST",
         "233",
         "Estonia",
         "1320884",
         "EU",
         "et,ru"
        ],
        [
         "EG",
         "EGY",
         "818",
         "Egypt",
         "98423595",
         "AF",
         "ar-EG,en,fr"
        ],
        [
         "ES",
         "ESP",
         "724",
         "Spain",
         "46723749",
         "EU",
         "es-ES,ca,gl,eu,oc"
        ],
        [
         "FI",
         "FIN",
         "246",
         "Finland",
         "5518050",
         "EU",
         "fi-FI,sv-FI,smn"
        ],
        [
         "FR",
         "FRA",
         "250",
         "France",
         "66987244",
         "EU",
         "fr-FR,frp,br,co,ca,eu,oc"
        ],
        [
         "GB",
         "GBR",
         "826",
         "United Kingdom",
         "66488991",
         "EU",
         "en-GB,cy-GB,gd"
        ],
        [
         "GR",
         "GRC",
         "300",
         "Greece",
         "10727668",
         "EU",
         "el-GR,en,fr"
        ],
        [
         "HK",
         "HKG",
         "344",
         "Hong Kong",
         "7491609",
         "AS",
         "zh-HK,yue,zh,en"
        ],
        [
         "HR",
         "HRV",
         "191",
         "Croatia",
         "3871833",
         "EU",
         "hr-HR,sr"
        ],
        [
         "HU",
         "HUN",
         "348",
         "Hungary",
         "9768785",
         "EU",
         "hu-HU"
        ],
        [
         "ID",
         "IDN",
         "360",
         "Indonesia",
         "267663435",
         "AS",
         "id,en,nl,jv"
        ],
        [
         "IE",
         "IRL",
         "372",
         "Ireland",
         "4853506",
         "EU",
         "en-IE,ga-IE"
        ],
        [
         "IL",
         "ISR",
         "376",
         "Israel",
         "8883800",
         "AS",
         "he,ar-IL,en-IL,"
        ],
        [
         "IN",
         "IND",
         "356",
         "India",
         "1352617328",
         "AS",
         "en-IN,hi,bn,te,mr,ta,ur,gu,kn,ml,or,pa,as,bh,sat,ks,ne,sd,kok,doi,mni,sit,sa,fr,lus,inc"
        ],
        [
         "IT",
         "ITA",
         "380",
         "Italy",
         "60431283",
         "EU",
         "it-IT,de-IT,fr-IT,sc,ca,co,sl"
        ],
        [
         "JP",
         "JPN",
         "392",
         "Japan",
         "126529100",
         "AS",
         "ja"
        ],
        [
         "KR",
         "KOR",
         "410",
         "South Korea",
         "51635256",
         "AS",
         "ko-KR,en"
        ],
        [
         "LT",
         "LTU",
         "440",
         "Lithuania",
         "2789533",
         "EU",
         "lt,ru,pl"
        ],
        [
         "LU",
         "LUX",
         "442",
         "Luxembourg",
         "607728",
         "EU",
         "lb,de-LU,fr-LU"
        ],
        [
         "LV",
         "LVA",
         "428",
         "Latvia",
         "1926542",
         "EU",
         "lv,ru,lt"
        ],
        [
         "MA",
         "MAR",
         "504",
         "Morocco",
         "36029138",
         "AF",
         "ar-MA,ber,fr"
        ],
        [
         "MX",
         "MEX",
         "484",
         "Mexico",
         "126190788",
         "NA",
         "es-MX"
        ],
        [
         "MY",
         "MYS",
         "458",
         "Malaysia",
         "31528585",
         "AS",
         "ms-MY,en,zh,ta,te,ml,pa,th"
        ],
        [
         "NL",
         "NLD",
         "528",
         "The Netherlands",
         "17231017",
         "EU",
         "nl-NL,fy-NL"
        ],
        [
         "NO",
         "NOR",
         "578",
         "Norway",
         "5314336",
         "EU",
         "no,nb,nn,se,fi"
        ],
        [
         "NZ",
         "NZL",
         "554",
         "New Zealand",
         "4885500",
         "OC",
         "en-NZ,mi"
        ],
        [
         "PE",
         "PER",
         "604",
         "Peru",
         "31989256",
         "SA",
         "es-PE,qu,ay"
        ],
        [
         "PH",
         "PHL",
         "608",
         "Philippines",
         "106651922",
         "AS",
         "tl,en-PH,fil,ceb,ilo,hil,war,pam,bik,bcl,pag,mrw,tsg,mdh,cbk,krj,sgd,msb,akl,ibg,yka,mta,abx"
        ],
        [
         "PL",
         "POL",
         "616",
         "Poland",
         "37978548",
         "EU",
         "pl"
        ],
        [
         "PT",
         "PRT",
         "620",
         "Portugal",
         "10281762",
         "EU",
         "pt-PT,mwl"
        ],
        [
         "RO",
         "ROU",
         "642",
         "Romania",
         "19473936",
         "EU",
         "ro,hu,rom"
        ],
        [
         "RU",
         "RUS",
         "643",
         "Russia",
         "144478050",
         "EU",
         "ru,tt,xal,cau,ady,kv,ce,tyv,cv,udm,tut,mns,bua,myv,mdf,chm,ba,inh,kbd,krc,av,sah,nog"
        ]
       ],
       "shape": {
        "columns": 6,
        "rows": 61
       }
      },
      "text/html": [
       "<div>\n",
       "<style scoped>\n",
       "    .dataframe tbody tr th:only-of-type {\n",
       "        vertical-align: middle;\n",
       "    }\n",
       "\n",
       "    .dataframe tbody tr th {\n",
       "        vertical-align: top;\n",
       "    }\n",
       "\n",
       "    .dataframe thead th {\n",
       "        text-align: right;\n",
       "    }\n",
       "</style>\n",
       "<table border=\"1\" class=\"dataframe\">\n",
       "  <thead>\n",
       "    <tr style=\"text-align: right;\">\n",
       "      <th></th>\n",
       "      <th>ISO3</th>\n",
       "      <th>ISO-Numeric</th>\n",
       "      <th>Country</th>\n",
       "      <th>Population</th>\n",
       "      <th>Continent</th>\n",
       "      <th>Languages</th>\n",
       "    </tr>\n",
       "    <tr>\n",
       "      <th>ISO</th>\n",
       "      <th></th>\n",
       "      <th></th>\n",
       "      <th></th>\n",
       "      <th></th>\n",
       "      <th></th>\n",
       "      <th></th>\n",
       "    </tr>\n",
       "  </thead>\n",
       "  <tbody>\n",
       "    <tr>\n",
       "      <th>AE</th>\n",
       "      <td>ARE</td>\n",
       "      <td>784</td>\n",
       "      <td>United Arab Emirates</td>\n",
       "      <td>9630959</td>\n",
       "      <td>AS</td>\n",
       "      <td>ar-AE,fa,en,hi,ur</td>\n",
       "    </tr>\n",
       "    <tr>\n",
       "      <th>AR</th>\n",
       "      <td>ARG</td>\n",
       "      <td>32</td>\n",
       "      <td>Argentina</td>\n",
       "      <td>44494502</td>\n",
       "      <td>SA</td>\n",
       "      <td>es-AR,en,it,de,fr,gn</td>\n",
       "    </tr>\n",
       "    <tr>\n",
       "      <th>AT</th>\n",
       "      <td>AUT</td>\n",
       "      <td>40</td>\n",
       "      <td>Austria</td>\n",
       "      <td>8847037</td>\n",
       "      <td>EU</td>\n",
       "      <td>de-AT,hr,hu,sl</td>\n",
       "    </tr>\n",
       "    <tr>\n",
       "      <th>AU</th>\n",
       "      <td>AUS</td>\n",
       "      <td>36</td>\n",
       "      <td>Australia</td>\n",
       "      <td>24992369</td>\n",
       "      <td>OC</td>\n",
       "      <td>en-AU</td>\n",
       "    </tr>\n",
       "    <tr>\n",
       "      <th>BE</th>\n",
       "      <td>BEL</td>\n",
       "      <td>56</td>\n",
       "      <td>Belgium</td>\n",
       "      <td>11422068</td>\n",
       "      <td>EU</td>\n",
       "      <td>nl-BE,fr-BE,de-BE</td>\n",
       "    </tr>\n",
       "    <tr>\n",
       "      <th>...</th>\n",
       "      <td>...</td>\n",
       "      <td>...</td>\n",
       "      <td>...</td>\n",
       "      <td>...</td>\n",
       "      <td>...</td>\n",
       "      <td>...</td>\n",
       "    </tr>\n",
       "    <tr>\n",
       "      <th>TW</th>\n",
       "      <td>TWN</td>\n",
       "      <td>158</td>\n",
       "      <td>Taiwan</td>\n",
       "      <td>23451837</td>\n",
       "      <td>AS</td>\n",
       "      <td>zh-TW,zh,nan,hak</td>\n",
       "    </tr>\n",
       "    <tr>\n",
       "      <th>UA</th>\n",
       "      <td>UKR</td>\n",
       "      <td>804</td>\n",
       "      <td>Ukraine</td>\n",
       "      <td>44622516</td>\n",
       "      <td>EU</td>\n",
       "      <td>uk,ru-UA,rom,pl,hu</td>\n",
       "    </tr>\n",
       "    <tr>\n",
       "      <th>US</th>\n",
       "      <td>USA</td>\n",
       "      <td>840</td>\n",
       "      <td>United States</td>\n",
       "      <td>327167434</td>\n",
       "      <td>NA</td>\n",
       "      <td>en-US,es-US,haw,fr</td>\n",
       "    </tr>\n",
       "    <tr>\n",
       "      <th>VN</th>\n",
       "      <td>VNM</td>\n",
       "      <td>704</td>\n",
       "      <td>Vietnam</td>\n",
       "      <td>95540395</td>\n",
       "      <td>AS</td>\n",
       "      <td>vi,en,fr,zh,km</td>\n",
       "    </tr>\n",
       "    <tr>\n",
       "      <th>ZA</th>\n",
       "      <td>ZAF</td>\n",
       "      <td>710</td>\n",
       "      <td>South Africa</td>\n",
       "      <td>57779622</td>\n",
       "      <td>AF</td>\n",
       "      <td>zu,xh,af,nso,en-ZA,tn,st,ts,ss,ve,nr</td>\n",
       "    </tr>\n",
       "  </tbody>\n",
       "</table>\n",
       "<p>61 rows × 6 columns</p>\n",
       "</div>"
      ],
      "text/plain": [
       "    ISO3  ISO-Numeric               Country  Population Continent  \\\n",
       "ISO                                                                 \n",
       "AE   ARE          784  United Arab Emirates     9630959        AS   \n",
       "AR   ARG           32             Argentina    44494502        SA   \n",
       "AT   AUT           40               Austria     8847037        EU   \n",
       "AU   AUS           36             Australia    24992369        OC   \n",
       "BE   BEL           56               Belgium    11422068        EU   \n",
       "..   ...          ...                   ...         ...       ...   \n",
       "TW   TWN          158                Taiwan    23451837        AS   \n",
       "UA   UKR          804               Ukraine    44622516        EU   \n",
       "US   USA          840         United States   327167434        NA   \n",
       "VN   VNM          704               Vietnam    95540395        AS   \n",
       "ZA   ZAF          710          South Africa    57779622        AF   \n",
       "\n",
       "                                Languages  \n",
       "ISO                                        \n",
       "AE                      ar-AE,fa,en,hi,ur  \n",
       "AR                   es-AR,en,it,de,fr,gn  \n",
       "AT                         de-AT,hr,hu,sl  \n",
       "AU                                  en-AU  \n",
       "BE                      nl-BE,fr-BE,de-BE  \n",
       "..                                    ...  \n",
       "TW                       zh-TW,zh,nan,hak  \n",
       "UA                     uk,ru-UA,rom,pl,hu  \n",
       "US                     en-US,es-US,haw,fr  \n",
       "VN                         vi,en,fr,zh,km  \n",
       "ZA   zu,xh,af,nso,en-ZA,tn,st,ts,ss,ve,nr  \n",
       "\n",
       "[61 rows x 6 columns]"
      ]
     },
     "execution_count": 15,
     "metadata": {},
     "output_type": "execute_result"
    }
   ],
   "source": [
    "df.fillna('NA', inplace=True)\n",
    "df"
   ]
  },
  {
   "cell_type": "code",
   "execution_count": 16,
   "id": "7d0dbb13",
   "metadata": {},
   "outputs": [
    {
     "data": {
      "application/vnd.microsoft.datawrangler.viewer.v0+json": {
       "columns": [
        {
         "name": "index",
         "rawType": "int64",
         "type": "integer"
        },
        {
         "name": "ISO3",
         "rawType": "object",
         "type": "string"
        },
        {
         "name": "ISO-Numeric",
         "rawType": "int64",
         "type": "integer"
        },
        {
         "name": "Country",
         "rawType": "object",
         "type": "string"
        },
        {
         "name": "Population",
         "rawType": "int64",
         "type": "integer"
        },
        {
         "name": "Continent",
         "rawType": "object",
         "type": "string"
        },
        {
         "name": "Languages",
         "rawType": "object",
         "type": "string"
        }
       ],
       "conversionMethod": "pd.DataFrame",
       "ref": "7452594f-c9bf-45f7-bc00-b21a0d35851f",
       "rows": [
        [
         "0",
         "ARE",
         "784",
         "United Arab Emirates",
         "9630959",
         "AS",
         "ar,fa,en,hi,ur"
        ],
        [
         "1",
         "ARG",
         "32",
         "Argentina",
         "44494502",
         "SA",
         "es,en,it,de,fr,gn"
        ],
        [
         "2",
         "AUT",
         "40",
         "Austria",
         "8847037",
         "EU",
         "de,hr,hu,sl"
        ],
        [
         "3",
         "AUS",
         "36",
         "Australia",
         "24992369",
         "OC",
         "en"
        ],
        [
         "4",
         "BEL",
         "56",
         "Belgium",
         "11422068",
         "EU",
         "nl,fr,de"
        ],
        [
         "5",
         "BGR",
         "100",
         "Bulgaria",
         "7000039",
         "EU",
         "bg,tr,rom"
        ],
        [
         "6",
         "BRA",
         "76",
         "Brazil",
         "209469333",
         "SA",
         "pt,es,en,fr"
        ],
        [
         "7",
         "CAN",
         "124",
         "Canada",
         "37058856",
         "NA",
         "en,fr,iu"
        ],
        [
         "8",
         "CHE",
         "756",
         "Switzerland",
         "8516543",
         "EU",
         "de,fr,it,rm"
        ],
        [
         "9",
         "CHL",
         "152",
         "Chile",
         "18729160",
         "SA",
         "es"
        ],
        [
         "10",
         "CHN",
         "156",
         "China",
         "1411778724",
         "AS",
         "zh,yue,wuu,dta,ug,za"
        ],
        [
         "11",
         "COL",
         "170",
         "Colombia",
         "49648685",
         "SA",
         "es"
        ],
        [
         "12",
         "CRI",
         "188",
         "Costa Rica",
         "4999441",
         "NA",
         "es,en"
        ],
        [
         "13",
         "CYP",
         "196",
         "Cyprus",
         "1189265",
         "EU",
         "el,tr,en"
        ],
        [
         "14",
         "CZE",
         "203",
         "Czechia",
         "10625695",
         "EU",
         "cs,sk"
        ],
        [
         "15",
         "DEU",
         "276",
         "Germany",
         "82927922",
         "EU",
         "de"
        ],
        [
         "16",
         "DNK",
         "208",
         "Denmark",
         "5797446",
         "EU",
         "da,en,fo,de"
        ],
        [
         "17",
         "ECU",
         "218",
         "Ecuador",
         "17084357",
         "SA",
         "es"
        ],
        [
         "18",
         "EST",
         "233",
         "Estonia",
         "1320884",
         "EU",
         "et,ru"
        ],
        [
         "19",
         "EGY",
         "818",
         "Egypt",
         "98423595",
         "AF",
         "ar,en,fr"
        ],
        [
         "20",
         "ESP",
         "724",
         "Spain",
         "46723749",
         "EU",
         "es,ca,gl,eu,oc"
        ],
        [
         "21",
         "FIN",
         "246",
         "Finland",
         "5518050",
         "EU",
         "fi,sv,smn"
        ],
        [
         "22",
         "FRA",
         "250",
         "France",
         "66987244",
         "EU",
         "fr,frp,br,co,ca,eu,oc"
        ],
        [
         "23",
         "GBR",
         "826",
         "United Kingdom",
         "66488991",
         "EU",
         "en,cy,gd"
        ],
        [
         "24",
         "GRC",
         "300",
         "Greece",
         "10727668",
         "EU",
         "el,en,fr"
        ],
        [
         "25",
         "HKG",
         "344",
         "Hong Kong",
         "7491609",
         "AS",
         "zh,yue,zh,en"
        ],
        [
         "26",
         "HRV",
         "191",
         "Croatia",
         "3871833",
         "EU",
         "hr,sr"
        ],
        [
         "27",
         "HUN",
         "348",
         "Hungary",
         "9768785",
         "EU",
         "hu"
        ],
        [
         "28",
         "IDN",
         "360",
         "Indonesia",
         "267663435",
         "AS",
         "id,en,nl,jv"
        ],
        [
         "29",
         "IRL",
         "372",
         "Ireland",
         "4853506",
         "EU",
         "en,ga"
        ],
        [
         "30",
         "ISR",
         "376",
         "Israel",
         "8883800",
         "AS",
         "he,ar,en,"
        ],
        [
         "31",
         "IND",
         "356",
         "India",
         "1352617328",
         "AS",
         "en,hi,bn,te,mr,ta,ur,gu,kn,ml,or,pa,as,bh,sat,ks,ne,sd,kok,doi,mni,sit,sa,fr,lus,inc"
        ],
        [
         "32",
         "ITA",
         "380",
         "Italy",
         "60431283",
         "EU",
         "it,de,fr,sc,ca,co,sl"
        ],
        [
         "33",
         "JPN",
         "392",
         "Japan",
         "126529100",
         "AS",
         "ja"
        ],
        [
         "34",
         "KOR",
         "410",
         "South Korea",
         "51635256",
         "AS",
         "ko,en"
        ],
        [
         "35",
         "LTU",
         "440",
         "Lithuania",
         "2789533",
         "EU",
         "lt,ru,pl"
        ],
        [
         "36",
         "LUX",
         "442",
         "Luxembourg",
         "607728",
         "EU",
         "lb,de,fr"
        ],
        [
         "37",
         "LVA",
         "428",
         "Latvia",
         "1926542",
         "EU",
         "lv,ru,lt"
        ],
        [
         "38",
         "MAR",
         "504",
         "Morocco",
         "36029138",
         "AF",
         "ar,ber,fr"
        ],
        [
         "39",
         "MEX",
         "484",
         "Mexico",
         "126190788",
         "NA",
         "es"
        ],
        [
         "40",
         "MYS",
         "458",
         "Malaysia",
         "31528585",
         "AS",
         "ms,en,zh,ta,te,ml,pa,th"
        ],
        [
         "41",
         "NLD",
         "528",
         "The Netherlands",
         "17231017",
         "EU",
         "nl,fy"
        ],
        [
         "42",
         "NOR",
         "578",
         "Norway",
         "5314336",
         "EU",
         "no,nb,nn,se,fi"
        ],
        [
         "43",
         "NZL",
         "554",
         "New Zealand",
         "4885500",
         "OC",
         "en,mi"
        ],
        [
         "44",
         "PER",
         "604",
         "Peru",
         "31989256",
         "SA",
         "es,qu,ay"
        ],
        [
         "45",
         "PHL",
         "608",
         "Philippines",
         "106651922",
         "AS",
         "tl,en,fil,ceb,ilo,hil,war,pam,bik,bcl,pag,mrw,tsg,mdh,cbk,krj,sgd,msb,akl,ibg,yka,mta,abx"
        ],
        [
         "46",
         "POL",
         "616",
         "Poland",
         "37978548",
         "EU",
         "pl"
        ],
        [
         "47",
         "PRT",
         "620",
         "Portugal",
         "10281762",
         "EU",
         "pt,mwl"
        ],
        [
         "48",
         "ROU",
         "642",
         "Romania",
         "19473936",
         "EU",
         "ro,hu,rom"
        ],
        [
         "49",
         "RUS",
         "643",
         "Russia",
         "144478050",
         "EU",
         "ru,tt,xal,cau,ady,kv,ce,tyv,cv,udm,tut,mns,bua,myv,mdf,chm,ba,inh,kbd,krc,av,sah,nog"
        ]
       ],
       "shape": {
        "columns": 6,
        "rows": 61
       }
      },
      "text/html": [
       "<div>\n",
       "<style scoped>\n",
       "    .dataframe tbody tr th:only-of-type {\n",
       "        vertical-align: middle;\n",
       "    }\n",
       "\n",
       "    .dataframe tbody tr th {\n",
       "        vertical-align: top;\n",
       "    }\n",
       "\n",
       "    .dataframe thead th {\n",
       "        text-align: right;\n",
       "    }\n",
       "</style>\n",
       "<table border=\"1\" class=\"dataframe\">\n",
       "  <thead>\n",
       "    <tr style=\"text-align: right;\">\n",
       "      <th></th>\n",
       "      <th>ISO3</th>\n",
       "      <th>ISO-Numeric</th>\n",
       "      <th>Country</th>\n",
       "      <th>Population</th>\n",
       "      <th>Continent</th>\n",
       "      <th>Languages</th>\n",
       "    </tr>\n",
       "  </thead>\n",
       "  <tbody>\n",
       "    <tr>\n",
       "      <th>0</th>\n",
       "      <td>ARE</td>\n",
       "      <td>784</td>\n",
       "      <td>United Arab Emirates</td>\n",
       "      <td>9630959</td>\n",
       "      <td>AS</td>\n",
       "      <td>ar,fa,en,hi,ur</td>\n",
       "    </tr>\n",
       "    <tr>\n",
       "      <th>1</th>\n",
       "      <td>ARG</td>\n",
       "      <td>32</td>\n",
       "      <td>Argentina</td>\n",
       "      <td>44494502</td>\n",
       "      <td>SA</td>\n",
       "      <td>es,en,it,de,fr,gn</td>\n",
       "    </tr>\n",
       "    <tr>\n",
       "      <th>2</th>\n",
       "      <td>AUT</td>\n",
       "      <td>40</td>\n",
       "      <td>Austria</td>\n",
       "      <td>8847037</td>\n",
       "      <td>EU</td>\n",
       "      <td>de,hr,hu,sl</td>\n",
       "    </tr>\n",
       "    <tr>\n",
       "      <th>3</th>\n",
       "      <td>AUS</td>\n",
       "      <td>36</td>\n",
       "      <td>Australia</td>\n",
       "      <td>24992369</td>\n",
       "      <td>OC</td>\n",
       "      <td>en</td>\n",
       "    </tr>\n",
       "    <tr>\n",
       "      <th>4</th>\n",
       "      <td>BEL</td>\n",
       "      <td>56</td>\n",
       "      <td>Belgium</td>\n",
       "      <td>11422068</td>\n",
       "      <td>EU</td>\n",
       "      <td>nl,fr,de</td>\n",
       "    </tr>\n",
       "    <tr>\n",
       "      <th>...</th>\n",
       "      <td>...</td>\n",
       "      <td>...</td>\n",
       "      <td>...</td>\n",
       "      <td>...</td>\n",
       "      <td>...</td>\n",
       "      <td>...</td>\n",
       "    </tr>\n",
       "    <tr>\n",
       "      <th>56</th>\n",
       "      <td>TWN</td>\n",
       "      <td>158</td>\n",
       "      <td>Taiwan</td>\n",
       "      <td>23451837</td>\n",
       "      <td>AS</td>\n",
       "      <td>zh,zh,nan,hak</td>\n",
       "    </tr>\n",
       "    <tr>\n",
       "      <th>57</th>\n",
       "      <td>UKR</td>\n",
       "      <td>804</td>\n",
       "      <td>Ukraine</td>\n",
       "      <td>44622516</td>\n",
       "      <td>EU</td>\n",
       "      <td>uk,ru,rom,pl,hu</td>\n",
       "    </tr>\n",
       "    <tr>\n",
       "      <th>58</th>\n",
       "      <td>USA</td>\n",
       "      <td>840</td>\n",
       "      <td>United States</td>\n",
       "      <td>327167434</td>\n",
       "      <td>NA</td>\n",
       "      <td>en,es,haw,fr</td>\n",
       "    </tr>\n",
       "    <tr>\n",
       "      <th>59</th>\n",
       "      <td>VNM</td>\n",
       "      <td>704</td>\n",
       "      <td>Vietnam</td>\n",
       "      <td>95540395</td>\n",
       "      <td>AS</td>\n",
       "      <td>vi,en,fr,zh,km</td>\n",
       "    </tr>\n",
       "    <tr>\n",
       "      <th>60</th>\n",
       "      <td>ZAF</td>\n",
       "      <td>710</td>\n",
       "      <td>South Africa</td>\n",
       "      <td>57779622</td>\n",
       "      <td>AF</td>\n",
       "      <td>zu,xh,af,nso,en,tn,st,ts,ss,ve,nr</td>\n",
       "    </tr>\n",
       "  </tbody>\n",
       "</table>\n",
       "<p>61 rows × 6 columns</p>\n",
       "</div>"
      ],
      "text/plain": [
       "   ISO3  ISO-Numeric               Country  Population Continent  \\\n",
       "0   ARE          784  United Arab Emirates     9630959        AS   \n",
       "1   ARG           32             Argentina    44494502        SA   \n",
       "2   AUT           40               Austria     8847037        EU   \n",
       "3   AUS           36             Australia    24992369        OC   \n",
       "4   BEL           56               Belgium    11422068        EU   \n",
       "..  ...          ...                   ...         ...       ...   \n",
       "56  TWN          158                Taiwan    23451837        AS   \n",
       "57  UKR          804               Ukraine    44622516        EU   \n",
       "58  USA          840         United States   327167434        NA   \n",
       "59  VNM          704               Vietnam    95540395        AS   \n",
       "60  ZAF          710          South Africa    57779622        AF   \n",
       "\n",
       "                            Languages  \n",
       "0                      ar,fa,en,hi,ur  \n",
       "1                   es,en,it,de,fr,gn  \n",
       "2                         de,hr,hu,sl  \n",
       "3                                  en  \n",
       "4                            nl,fr,de  \n",
       "..                                ...  \n",
       "56                      zh,zh,nan,hak  \n",
       "57                    uk,ru,rom,pl,hu  \n",
       "58                       en,es,haw,fr  \n",
       "59                     vi,en,fr,zh,km  \n",
       "60  zu,xh,af,nso,en,tn,st,ts,ss,ve,nr  \n",
       "\n",
       "[61 rows x 6 columns]"
      ]
     },
     "execution_count": 16,
     "metadata": {},
     "output_type": "execute_result"
    }
   ],
   "source": [
    "df['Languages'] = df['Languages'].str.replace(r'-\\w{2}', '', regex=True)\n",
    "df.reset_index(drop=True, inplace=True)\n",
    "df"
   ]
  },
  {
   "cell_type": "code",
   "execution_count": 17,
   "id": "ecded938",
   "metadata": {},
   "outputs": [],
   "source": [
    "timezone_map = {\n",
    "    \"ARE\": \"UTC +4\", \"ARG\": \"UTC -3\", \"AUT\": \"UTC +1\", \"AUS\": \"UTC +10\", \"BEL\": \"UTC +1\", \"BGR\": \"UTC +2\", \n",
    "    \"BRA\": \"UTC -3\", \"CAN\": \"UTC -5\", \"CHE\": \"UTC +1\", \"CHL\": \"UTC -4\", \"CHN\": \"UTC +8\", \"COL\": \"UTC -5\", \n",
    "    \"CRI\": \"UTC -6\", \"CYP\": \"UTC +2\", \"CZE\": \"UTC +1\", \"DEU\": \"UTC +1\", \"DNK\": \"UTC +1\", \"ECU\": \"UTC -5\", \n",
    "    \"EST\": \"UTC +2\", \"EGY\": \"UTC +2\", \"ESP\": \"UTC +1\", \"FIN\": \"UTC +2\", \"FRA\": \"UTC +1\", \"GBR\": \"UTC +0\", \n",
    "    \"GRC\": \"UTC +2\", \"HKG\": \"UTC +8\", \"HRV\": \"UTC +1\", \"HUN\": \"UTC +1\", \"IDN\": \"UTC +7\", \"IRL\": \"UTC +0\", \n",
    "    \"ISR\": \"UTC +2\", \"IND\": \"UTC +5:30\", \"ITA\": \"UTC +1\", \"JPN\": \"UTC +9\", \"KOR\": \"UTC +9\", \"LTU\": \"UTC +2\", \n",
    "    \"LUX\": \"UTC +1\", \"LVA\": \"UTC +2\", \"MAR\": \"UTC +1\", \"MEX\": \"UTC -6\", \"MYS\": \"UTC +8\", \"NLD\": \"UTC +1\", \n",
    "    \"NOR\": \"UTC +1\", \"NZL\": \"UTC +12\", \"PER\": \"UTC -5\", \"PHL\": \"UTC +8\", \"POL\": \"UTC +1\", \"PRT\": \"UTC +0\", \n",
    "    \"ROU\": \"UTC +2\", \"RUS\": \"UTC +3\", \"SAU\": \"UTC +3\", \"SWE\": \"UTC +1\", \"SGP\": \"UTC +8\", \"SVK\": \"UTC +1\", \n",
    "    \"THA\": \"UTC +7\", \"TUR\": \"UTC +3\", \"TWN\": \"UTC +8\", \"UKR\": \"UTC +2\", \"USA\": \"UTC -5\", \"VNM\": \"UTC +7\", \n",
    "    \"ZAF\": \"UTC +2\"\n",
    "}"
   ]
  },
  {
   "cell_type": "code",
   "execution_count": 18,
   "id": "457dd4d5",
   "metadata": {},
   "outputs": [],
   "source": [
    "def convert_to_float(utc_string):\n",
    "    sign = 1 if '+' in utc_string else -1\n",
    "    cleaned = utc_string.replace('UTC ', '').replace('+', '').replace('-', '')\n",
    "    \n",
    "    # Caso com horas inteiras (ex: UTC +5 ou UTC -3)\n",
    "    if len(cleaned.split(':')) == 1:\n",
    "        return sign * int(cleaned)\n",
    "    \n",
    "    # Caso com horas e minutos (ex: UTC +5:30)\n",
    "    else:\n",
    "        hours, minutes = map(int, cleaned.split(':'))\n",
    "        return sign * (hours + minutes / 60)"
   ]
  },
  {
   "cell_type": "code",
   "execution_count": 19,
   "id": "57f7047d",
   "metadata": {},
   "outputs": [
    {
     "data": {
      "application/vnd.microsoft.datawrangler.viewer.v0+json": {
       "columns": [
        {
         "name": "index",
         "rawType": "int64",
         "type": "integer"
        },
        {
         "name": "ISO3",
         "rawType": "object",
         "type": "string"
        },
        {
         "name": "ISO-Numeric",
         "rawType": "int64",
         "type": "integer"
        },
        {
         "name": "Country",
         "rawType": "object",
         "type": "string"
        },
        {
         "name": "Population",
         "rawType": "int64",
         "type": "integer"
        },
        {
         "name": "Continent",
         "rawType": "object",
         "type": "string"
        },
        {
         "name": "Languages",
         "rawType": "object",
         "type": "string"
        },
        {
         "name": "Timezone",
         "rawType": "float64",
         "type": "float"
        }
       ],
       "conversionMethod": "pd.DataFrame",
       "ref": "b2f2324d-83d3-4e23-b81b-6f2c158de73d",
       "rows": [
        [
         "0",
         "ARE",
         "784",
         "United Arab Emirates",
         "9630959",
         "AS",
         "ar,fa,en,hi,ur",
         "4.0"
        ],
        [
         "1",
         "ARG",
         "32",
         "Argentina",
         "44494502",
         "SA",
         "es,en,it,de,fr,gn",
         "-3.0"
        ],
        [
         "2",
         "AUT",
         "40",
         "Austria",
         "8847037",
         "EU",
         "de,hr,hu,sl",
         "1.0"
        ],
        [
         "3",
         "AUS",
         "36",
         "Australia",
         "24992369",
         "OC",
         "en",
         "10.0"
        ],
        [
         "4",
         "BEL",
         "56",
         "Belgium",
         "11422068",
         "EU",
         "nl,fr,de",
         "1.0"
        ],
        [
         "5",
         "BGR",
         "100",
         "Bulgaria",
         "7000039",
         "EU",
         "bg,tr,rom",
         "2.0"
        ],
        [
         "6",
         "BRA",
         "76",
         "Brazil",
         "209469333",
         "SA",
         "pt,es,en,fr",
         "-3.0"
        ],
        [
         "7",
         "CAN",
         "124",
         "Canada",
         "37058856",
         "NA",
         "en,fr,iu",
         "-5.0"
        ],
        [
         "8",
         "CHE",
         "756",
         "Switzerland",
         "8516543",
         "EU",
         "de,fr,it,rm",
         "1.0"
        ],
        [
         "9",
         "CHL",
         "152",
         "Chile",
         "18729160",
         "SA",
         "es",
         "-4.0"
        ],
        [
         "10",
         "CHN",
         "156",
         "China",
         "1411778724",
         "AS",
         "zh,yue,wuu,dta,ug,za",
         "8.0"
        ],
        [
         "11",
         "COL",
         "170",
         "Colombia",
         "49648685",
         "SA",
         "es",
         "-5.0"
        ],
        [
         "12",
         "CRI",
         "188",
         "Costa Rica",
         "4999441",
         "NA",
         "es,en",
         "-6.0"
        ],
        [
         "13",
         "CYP",
         "196",
         "Cyprus",
         "1189265",
         "EU",
         "el,tr,en",
         "2.0"
        ],
        [
         "14",
         "CZE",
         "203",
         "Czechia",
         "10625695",
         "EU",
         "cs,sk",
         "1.0"
        ],
        [
         "15",
         "DEU",
         "276",
         "Germany",
         "82927922",
         "EU",
         "de",
         "1.0"
        ],
        [
         "16",
         "DNK",
         "208",
         "Denmark",
         "5797446",
         "EU",
         "da,en,fo,de",
         "1.0"
        ],
        [
         "17",
         "ECU",
         "218",
         "Ecuador",
         "17084357",
         "SA",
         "es",
         "-5.0"
        ],
        [
         "18",
         "EST",
         "233",
         "Estonia",
         "1320884",
         "EU",
         "et,ru",
         "2.0"
        ],
        [
         "19",
         "EGY",
         "818",
         "Egypt",
         "98423595",
         "AF",
         "ar,en,fr",
         "2.0"
        ],
        [
         "20",
         "ESP",
         "724",
         "Spain",
         "46723749",
         "EU",
         "es,ca,gl,eu,oc",
         "1.0"
        ],
        [
         "21",
         "FIN",
         "246",
         "Finland",
         "5518050",
         "EU",
         "fi,sv,smn",
         "2.0"
        ],
        [
         "22",
         "FRA",
         "250",
         "France",
         "66987244",
         "EU",
         "fr,frp,br,co,ca,eu,oc",
         "1.0"
        ],
        [
         "23",
         "GBR",
         "826",
         "United Kingdom",
         "66488991",
         "EU",
         "en,cy,gd",
         "0.0"
        ],
        [
         "24",
         "GRC",
         "300",
         "Greece",
         "10727668",
         "EU",
         "el,en,fr",
         "2.0"
        ],
        [
         "25",
         "HKG",
         "344",
         "Hong Kong",
         "7491609",
         "AS",
         "zh,yue,zh,en",
         "8.0"
        ],
        [
         "26",
         "HRV",
         "191",
         "Croatia",
         "3871833",
         "EU",
         "hr,sr",
         "1.0"
        ],
        [
         "27",
         "HUN",
         "348",
         "Hungary",
         "9768785",
         "EU",
         "hu",
         "1.0"
        ],
        [
         "28",
         "IDN",
         "360",
         "Indonesia",
         "267663435",
         "AS",
         "id,en,nl,jv",
         "7.0"
        ],
        [
         "29",
         "IRL",
         "372",
         "Ireland",
         "4853506",
         "EU",
         "en,ga",
         "0.0"
        ],
        [
         "30",
         "ISR",
         "376",
         "Israel",
         "8883800",
         "AS",
         "he,ar,en,",
         "2.0"
        ],
        [
         "31",
         "IND",
         "356",
         "India",
         "1352617328",
         "AS",
         "en,hi,bn,te,mr,ta,ur,gu,kn,ml,or,pa,as,bh,sat,ks,ne,sd,kok,doi,mni,sit,sa,fr,lus,inc",
         "5.5"
        ],
        [
         "32",
         "ITA",
         "380",
         "Italy",
         "60431283",
         "EU",
         "it,de,fr,sc,ca,co,sl",
         "1.0"
        ],
        [
         "33",
         "JPN",
         "392",
         "Japan",
         "126529100",
         "AS",
         "ja",
         "9.0"
        ],
        [
         "34",
         "KOR",
         "410",
         "South Korea",
         "51635256",
         "AS",
         "ko,en",
         "9.0"
        ],
        [
         "35",
         "LTU",
         "440",
         "Lithuania",
         "2789533",
         "EU",
         "lt,ru,pl",
         "2.0"
        ],
        [
         "36",
         "LUX",
         "442",
         "Luxembourg",
         "607728",
         "EU",
         "lb,de,fr",
         "1.0"
        ],
        [
         "37",
         "LVA",
         "428",
         "Latvia",
         "1926542",
         "EU",
         "lv,ru,lt",
         "2.0"
        ],
        [
         "38",
         "MAR",
         "504",
         "Morocco",
         "36029138",
         "AF",
         "ar,ber,fr",
         "1.0"
        ],
        [
         "39",
         "MEX",
         "484",
         "Mexico",
         "126190788",
         "NA",
         "es",
         "-6.0"
        ],
        [
         "40",
         "MYS",
         "458",
         "Malaysia",
         "31528585",
         "AS",
         "ms,en,zh,ta,te,ml,pa,th",
         "8.0"
        ],
        [
         "41",
         "NLD",
         "528",
         "The Netherlands",
         "17231017",
         "EU",
         "nl,fy",
         "1.0"
        ],
        [
         "42",
         "NOR",
         "578",
         "Norway",
         "5314336",
         "EU",
         "no,nb,nn,se,fi",
         "1.0"
        ],
        [
         "43",
         "NZL",
         "554",
         "New Zealand",
         "4885500",
         "OC",
         "en,mi",
         "12.0"
        ],
        [
         "44",
         "PER",
         "604",
         "Peru",
         "31989256",
         "SA",
         "es,qu,ay",
         "-5.0"
        ],
        [
         "45",
         "PHL",
         "608",
         "Philippines",
         "106651922",
         "AS",
         "tl,en,fil,ceb,ilo,hil,war,pam,bik,bcl,pag,mrw,tsg,mdh,cbk,krj,sgd,msb,akl,ibg,yka,mta,abx",
         "8.0"
        ],
        [
         "46",
         "POL",
         "616",
         "Poland",
         "37978548",
         "EU",
         "pl",
         "1.0"
        ],
        [
         "47",
         "PRT",
         "620",
         "Portugal",
         "10281762",
         "EU",
         "pt,mwl",
         "0.0"
        ],
        [
         "48",
         "ROU",
         "642",
         "Romania",
         "19473936",
         "EU",
         "ro,hu,rom",
         "2.0"
        ],
        [
         "49",
         "RUS",
         "643",
         "Russia",
         "144478050",
         "EU",
         "ru,tt,xal,cau,ady,kv,ce,tyv,cv,udm,tut,mns,bua,myv,mdf,chm,ba,inh,kbd,krc,av,sah,nog",
         "3.0"
        ]
       ],
       "shape": {
        "columns": 7,
        "rows": 61
       }
      },
      "text/html": [
       "<div>\n",
       "<style scoped>\n",
       "    .dataframe tbody tr th:only-of-type {\n",
       "        vertical-align: middle;\n",
       "    }\n",
       "\n",
       "    .dataframe tbody tr th {\n",
       "        vertical-align: top;\n",
       "    }\n",
       "\n",
       "    .dataframe thead th {\n",
       "        text-align: right;\n",
       "    }\n",
       "</style>\n",
       "<table border=\"1\" class=\"dataframe\">\n",
       "  <thead>\n",
       "    <tr style=\"text-align: right;\">\n",
       "      <th></th>\n",
       "      <th>ISO3</th>\n",
       "      <th>ISO-Numeric</th>\n",
       "      <th>Country</th>\n",
       "      <th>Population</th>\n",
       "      <th>Continent</th>\n",
       "      <th>Languages</th>\n",
       "      <th>Timezone</th>\n",
       "    </tr>\n",
       "  </thead>\n",
       "  <tbody>\n",
       "    <tr>\n",
       "      <th>0</th>\n",
       "      <td>ARE</td>\n",
       "      <td>784</td>\n",
       "      <td>United Arab Emirates</td>\n",
       "      <td>9630959</td>\n",
       "      <td>AS</td>\n",
       "      <td>ar,fa,en,hi,ur</td>\n",
       "      <td>4.0</td>\n",
       "    </tr>\n",
       "    <tr>\n",
       "      <th>1</th>\n",
       "      <td>ARG</td>\n",
       "      <td>32</td>\n",
       "      <td>Argentina</td>\n",
       "      <td>44494502</td>\n",
       "      <td>SA</td>\n",
       "      <td>es,en,it,de,fr,gn</td>\n",
       "      <td>-3.0</td>\n",
       "    </tr>\n",
       "    <tr>\n",
       "      <th>2</th>\n",
       "      <td>AUT</td>\n",
       "      <td>40</td>\n",
       "      <td>Austria</td>\n",
       "      <td>8847037</td>\n",
       "      <td>EU</td>\n",
       "      <td>de,hr,hu,sl</td>\n",
       "      <td>1.0</td>\n",
       "    </tr>\n",
       "    <tr>\n",
       "      <th>3</th>\n",
       "      <td>AUS</td>\n",
       "      <td>36</td>\n",
       "      <td>Australia</td>\n",
       "      <td>24992369</td>\n",
       "      <td>OC</td>\n",
       "      <td>en</td>\n",
       "      <td>10.0</td>\n",
       "    </tr>\n",
       "    <tr>\n",
       "      <th>4</th>\n",
       "      <td>BEL</td>\n",
       "      <td>56</td>\n",
       "      <td>Belgium</td>\n",
       "      <td>11422068</td>\n",
       "      <td>EU</td>\n",
       "      <td>nl,fr,de</td>\n",
       "      <td>1.0</td>\n",
       "    </tr>\n",
       "    <tr>\n",
       "      <th>...</th>\n",
       "      <td>...</td>\n",
       "      <td>...</td>\n",
       "      <td>...</td>\n",
       "      <td>...</td>\n",
       "      <td>...</td>\n",
       "      <td>...</td>\n",
       "      <td>...</td>\n",
       "    </tr>\n",
       "    <tr>\n",
       "      <th>56</th>\n",
       "      <td>TWN</td>\n",
       "      <td>158</td>\n",
       "      <td>Taiwan</td>\n",
       "      <td>23451837</td>\n",
       "      <td>AS</td>\n",
       "      <td>zh,zh,nan,hak</td>\n",
       "      <td>8.0</td>\n",
       "    </tr>\n",
       "    <tr>\n",
       "      <th>57</th>\n",
       "      <td>UKR</td>\n",
       "      <td>804</td>\n",
       "      <td>Ukraine</td>\n",
       "      <td>44622516</td>\n",
       "      <td>EU</td>\n",
       "      <td>uk,ru,rom,pl,hu</td>\n",
       "      <td>2.0</td>\n",
       "    </tr>\n",
       "    <tr>\n",
       "      <th>58</th>\n",
       "      <td>USA</td>\n",
       "      <td>840</td>\n",
       "      <td>United States</td>\n",
       "      <td>327167434</td>\n",
       "      <td>NA</td>\n",
       "      <td>en,es,haw,fr</td>\n",
       "      <td>-5.0</td>\n",
       "    </tr>\n",
       "    <tr>\n",
       "      <th>59</th>\n",
       "      <td>VNM</td>\n",
       "      <td>704</td>\n",
       "      <td>Vietnam</td>\n",
       "      <td>95540395</td>\n",
       "      <td>AS</td>\n",
       "      <td>vi,en,fr,zh,km</td>\n",
       "      <td>7.0</td>\n",
       "    </tr>\n",
       "    <tr>\n",
       "      <th>60</th>\n",
       "      <td>ZAF</td>\n",
       "      <td>710</td>\n",
       "      <td>South Africa</td>\n",
       "      <td>57779622</td>\n",
       "      <td>AF</td>\n",
       "      <td>zu,xh,af,nso,en,tn,st,ts,ss,ve,nr</td>\n",
       "      <td>2.0</td>\n",
       "    </tr>\n",
       "  </tbody>\n",
       "</table>\n",
       "<p>61 rows × 7 columns</p>\n",
       "</div>"
      ],
      "text/plain": [
       "   ISO3  ISO-Numeric               Country  Population Continent  \\\n",
       "0   ARE          784  United Arab Emirates     9630959        AS   \n",
       "1   ARG           32             Argentina    44494502        SA   \n",
       "2   AUT           40               Austria     8847037        EU   \n",
       "3   AUS           36             Australia    24992369        OC   \n",
       "4   BEL           56               Belgium    11422068        EU   \n",
       "..  ...          ...                   ...         ...       ...   \n",
       "56  TWN          158                Taiwan    23451837        AS   \n",
       "57  UKR          804               Ukraine    44622516        EU   \n",
       "58  USA          840         United States   327167434        NA   \n",
       "59  VNM          704               Vietnam    95540395        AS   \n",
       "60  ZAF          710          South Africa    57779622        AF   \n",
       "\n",
       "                            Languages  Timezone  \n",
       "0                      ar,fa,en,hi,ur       4.0  \n",
       "1                   es,en,it,de,fr,gn      -3.0  \n",
       "2                         de,hr,hu,sl       1.0  \n",
       "3                                  en      10.0  \n",
       "4                            nl,fr,de       1.0  \n",
       "..                                ...       ...  \n",
       "56                      zh,zh,nan,hak       8.0  \n",
       "57                    uk,ru,rom,pl,hu       2.0  \n",
       "58                       en,es,haw,fr      -5.0  \n",
       "59                     vi,en,fr,zh,km       7.0  \n",
       "60  zu,xh,af,nso,en,tn,st,ts,ss,ve,nr       2.0  \n",
       "\n",
       "[61 rows x 7 columns]"
      ]
     },
     "execution_count": 19,
     "metadata": {},
     "output_type": "execute_result"
    }
   ],
   "source": [
    "df['Timezone'] = df['ISO3'].map(timezone_map).apply(convert_to_float)\n",
    "df"
   ]
  },
  {
   "cell_type": "code",
   "execution_count": 20,
   "id": "58fad3be",
   "metadata": {},
   "outputs": [],
   "source": [
    "total_population = df['Population'].sum()\n",
    "df['Population_Fraction'] = df['Population'] / total_population"
   ]
  },
  {
   "cell_type": "code",
   "execution_count": 21,
   "id": "af82cb16",
   "metadata": {},
   "outputs": [],
   "source": [
    "df.to_csv('../data/behavior_generated/country_data_cleaned.csv', index=False)"
   ]
  }
 ],
 "metadata": {
  "kernelspec": {
   "display_name": "base",
   "language": "python",
   "name": "python3"
  },
  "language_info": {
   "codemirror_mode": {
    "name": "ipython",
    "version": 3
   },
   "file_extension": ".py",
   "mimetype": "text/x-python",
   "name": "python",
   "nbconvert_exporter": "python",
   "pygments_lexer": "ipython3",
   "version": "3.12.7"
  }
 },
 "nbformat": 4,
 "nbformat_minor": 5
}
